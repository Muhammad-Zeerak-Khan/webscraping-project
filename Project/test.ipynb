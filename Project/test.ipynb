{
 "cells": [
  {
   "cell_type": "code",
   "execution_count": 4,
   "metadata": {},
   "outputs": [],
   "source": [
    "import pandas as pd"
   ]
  },
  {
   "cell_type": "code",
   "execution_count": 31,
   "metadata": {},
   "outputs": [],
   "source": [
    "df = pd.read_excel(\"../data/Assignment for a Data Manager Position in Gifka App.xlsx\", sheet_name=\"Gift Card #2 - TavHaZahav\")"
   ]
  },
  {
   "cell_type": "code",
   "execution_count": 32,
   "metadata": {},
   "outputs": [
    {
     "name": "stdout",
     "output_type": "stream",
     "text": [
      "<class 'pandas.core.frame.DataFrame'>\n",
      "RangeIndex: 165 entries, 0 to 164\n",
      "Data columns (total 11 columns):\n",
      " #   Column        Non-Null Count  Dtype  \n",
      "---  ------        --------------  -----  \n",
      " 0   Card Name     165 non-null    object \n",
      " 1   Card Webpage  165 non-null    object \n",
      " 2   Brand_name    165 non-null    object \n",
      " 3   Website       22 non-null     object \n",
      " 4   Unnamed: 4    0 non-null      float64\n",
      " 5   Unnamed: 5    0 non-null      float64\n",
      " 6   Unnamed: 6    0 non-null      float64\n",
      " 7   Unnamed: 7    0 non-null      float64\n",
      " 8   Unnamed: 8    0 non-null      float64\n",
      " 9   Unnamed: 9    0 non-null      float64\n",
      " 10  Unnamed: 10   1 non-null      object \n",
      "dtypes: float64(6), object(5)\n",
      "memory usage: 14.3+ KB\n"
     ]
    }
   ],
   "source": [
    "df.info()"
   ]
  },
  {
   "cell_type": "code",
   "execution_count": 35,
   "metadata": {},
   "outputs": [
    {
     "data": {
      "text/plain": [
       "164"
      ]
     },
     "execution_count": 35,
     "metadata": {},
     "output_type": "execute_result"
    }
   ],
   "source": [
    "no_of_unique_brand_names = df['Brand_name'].nunique()\n",
    "no_of_unique_brand_names"
   ]
  },
  {
   "cell_type": "markdown",
   "metadata": {},
   "source": [
    "As mentioned in the instructions that the unique brands are different from the total entries\n",
    "\n",
    "To better understand the repeating brand names going for language translation."
   ]
  },
  {
   "cell_type": "code",
   "execution_count": 36,
   "metadata": {},
   "outputs": [],
   "source": [
    "from googletrans import Translator\n",
    "def translate_column_hebrew_to_english(text : str) -> str:\n",
    "    translated = Translator().translate(text, src='he', dest='en')\n",
    "    return translated.text"
   ]
  },
  {
   "cell_type": "code",
   "execution_count": 37,
   "metadata": {},
   "outputs": [
    {
     "data": {
      "text/plain": [
       "'Max Brenner Carmiel'"
      ]
     },
     "execution_count": 37,
     "metadata": {},
     "output_type": "execute_result"
    }
   ],
   "source": [
    "translated_text = translate_column_hebrew_to_english(text= \"מקס ברנר כרמיאל\")\n",
    "translated_text"
   ]
  },
  {
   "cell_type": "code",
   "execution_count": 39,
   "metadata": {},
   "outputs": [
    {
     "data": {
      "text/plain": [
       "dtype('O')"
      ]
     },
     "execution_count": 39,
     "metadata": {},
     "output_type": "execute_result"
    }
   ],
   "source": [
    "df['Brand_name'].dtype"
   ]
  },
  {
   "cell_type": "code",
   "execution_count": 40,
   "metadata": {},
   "outputs": [],
   "source": [
    "df['Brand_name(English)'] = df['Brand_name'].apply(translate_column_hebrew_to_english)"
   ]
  },
  {
   "cell_type": "code",
   "execution_count": 41,
   "metadata": {},
   "outputs": [
    {
     "data": {
      "text/plain": [
       "163"
      ]
     },
     "execution_count": 41,
     "metadata": {},
     "output_type": "execute_result"
    }
   ],
   "source": [
    "df['Brand_name(English)'].nunique()"
   ]
  },
  {
   "cell_type": "code",
   "execution_count": 45,
   "metadata": {},
   "outputs": [
    {
     "data": {
      "text/html": [
       "<div>\n",
       "<style scoped>\n",
       "    .dataframe tbody tr th:only-of-type {\n",
       "        vertical-align: middle;\n",
       "    }\n",
       "\n",
       "    .dataframe tbody tr th {\n",
       "        vertical-align: top;\n",
       "    }\n",
       "\n",
       "    .dataframe thead th {\n",
       "        text-align: right;\n",
       "    }\n",
       "</style>\n",
       "<table border=\"1\" class=\"dataframe\">\n",
       "  <thead>\n",
       "    <tr style=\"text-align: right;\">\n",
       "      <th></th>\n",
       "      <th>Card Name</th>\n",
       "      <th>Card Webpage</th>\n",
       "      <th>Brand_name</th>\n",
       "      <th>Website</th>\n",
       "      <th>Unnamed: 4</th>\n",
       "      <th>Unnamed: 5</th>\n",
       "      <th>Unnamed: 6</th>\n",
       "      <th>Unnamed: 7</th>\n",
       "      <th>Unnamed: 8</th>\n",
       "      <th>Unnamed: 9</th>\n",
       "      <th>Unnamed: 10</th>\n",
       "      <th>Brand_name(English)</th>\n",
       "    </tr>\n",
       "  </thead>\n",
       "  <tbody>\n",
       "    <tr>\n",
       "      <th>160</th>\n",
       "      <td>Tav HaZahav Shufersal - שופרסל - תו הזהב</td>\n",
       "      <td>https://tavhazahav.shufersal.co.il/tavhazahav/</td>\n",
       "      <td>שופרסל שלי</td>\n",
       "      <td>NaN</td>\n",
       "      <td>NaN</td>\n",
       "      <td>NaN</td>\n",
       "      <td>NaN</td>\n",
       "      <td>NaN</td>\n",
       "      <td>NaN</td>\n",
       "      <td>NaN</td>\n",
       "      <td>NaN</td>\n",
       "      <td>My Shufersal</td>\n",
       "    </tr>\n",
       "    <tr>\n",
       "      <th>161</th>\n",
       "      <td>Tav HaZahav Shufersal - שופרסל - תו הזהב</td>\n",
       "      <td>https://tavhazahav.shufersal.co.il/tavhazahav/</td>\n",
       "      <td>שילב</td>\n",
       "      <td>NaN</td>\n",
       "      <td>NaN</td>\n",
       "      <td>NaN</td>\n",
       "      <td>NaN</td>\n",
       "      <td>NaN</td>\n",
       "      <td>NaN</td>\n",
       "      <td>NaN</td>\n",
       "      <td>NaN</td>\n",
       "      <td>Incorporated</td>\n",
       "    </tr>\n",
       "    <tr>\n",
       "      <th>162</th>\n",
       "      <td>Tav HaZahav Shufersal - שופרסל - תו הזהב</td>\n",
       "      <td>https://tavhazahav.shufersal.co.il/tavhazahav/</td>\n",
       "      <td>שיפודי אווזי - התקווה תל אביב</td>\n",
       "      <td>https://avazi-hatikva.rest.co.il/</td>\n",
       "      <td>NaN</td>\n",
       "      <td>NaN</td>\n",
       "      <td>NaN</td>\n",
       "      <td>NaN</td>\n",
       "      <td>NaN</td>\n",
       "      <td>NaN</td>\n",
       "      <td>NaN</td>\n",
       "      <td>Ozi Skewers - Hope Tel Aviv</td>\n",
       "    </tr>\n",
       "    <tr>\n",
       "      <th>163</th>\n",
       "      <td>Tav HaZahav Shufersal - שופרסל - תו הזהב</td>\n",
       "      <td>https://tavhazahav.shufersal.co.il/tavhazahav/</td>\n",
       "      <td>שקם אלקטריק</td>\n",
       "      <td>NaN</td>\n",
       "      <td>NaN</td>\n",
       "      <td>NaN</td>\n",
       "      <td>NaN</td>\n",
       "      <td>NaN</td>\n",
       "      <td>NaN</td>\n",
       "      <td>NaN</td>\n",
       "      <td>NaN</td>\n",
       "      <td>Consider Electric</td>\n",
       "    </tr>\n",
       "    <tr>\n",
       "      <th>164</th>\n",
       "      <td>Tav HaZahav Shufersal - שופרסל - תו הזהב</td>\n",
       "      <td>https://tavhazahav.shufersal.co.il/tavhazahav/</td>\n",
       "      <td>תיק התיקים</td>\n",
       "      <td>NaN</td>\n",
       "      <td>NaN</td>\n",
       "      <td>NaN</td>\n",
       "      <td>NaN</td>\n",
       "      <td>NaN</td>\n",
       "      <td>NaN</td>\n",
       "      <td>NaN</td>\n",
       "      <td>NaN</td>\n",
       "      <td>The bag bag</td>\n",
       "    </tr>\n",
       "  </tbody>\n",
       "</table>\n",
       "</div>"
      ],
      "text/plain": [
       "                                    Card Name  \\\n",
       "160  Tav HaZahav Shufersal - שופרסל - תו הזהב   \n",
       "161  Tav HaZahav Shufersal - שופרסל - תו הזהב   \n",
       "162  Tav HaZahav Shufersal - שופרסל - תו הזהב   \n",
       "163  Tav HaZahav Shufersal - שופרסל - תו הזהב   \n",
       "164  Tav HaZahav Shufersal - שופרסל - תו הזהב   \n",
       "\n",
       "                                       Card Webpage  \\\n",
       "160  https://tavhazahav.shufersal.co.il/tavhazahav/   \n",
       "161  https://tavhazahav.shufersal.co.il/tavhazahav/   \n",
       "162  https://tavhazahav.shufersal.co.il/tavhazahav/   \n",
       "163  https://tavhazahav.shufersal.co.il/tavhazahav/   \n",
       "164  https://tavhazahav.shufersal.co.il/tavhazahav/   \n",
       "\n",
       "                        Brand_name                            Website  \\\n",
       "160                     שופרסל שלי                                NaN   \n",
       "161                           שילב                                NaN   \n",
       "162  שיפודי אווזי - התקווה תל אביב  https://avazi-hatikva.rest.co.il/   \n",
       "163                    שקם אלקטריק                                NaN   \n",
       "164                     תיק התיקים                                NaN   \n",
       "\n",
       "     Unnamed: 4  Unnamed: 5  Unnamed: 6  Unnamed: 7  Unnamed: 8  Unnamed: 9  \\\n",
       "160         NaN         NaN         NaN         NaN         NaN         NaN   \n",
       "161         NaN         NaN         NaN         NaN         NaN         NaN   \n",
       "162         NaN         NaN         NaN         NaN         NaN         NaN   \n",
       "163         NaN         NaN         NaN         NaN         NaN         NaN   \n",
       "164         NaN         NaN         NaN         NaN         NaN         NaN   \n",
       "\n",
       "    Unnamed: 10          Brand_name(English)  \n",
       "160         NaN                 My Shufersal  \n",
       "161         NaN                 Incorporated  \n",
       "162         NaN  Ozi Skewers - Hope Tel Aviv  \n",
       "163         NaN            Consider Electric  \n",
       "164         NaN                  The bag bag  "
      ]
     },
     "execution_count": 45,
     "metadata": {},
     "output_type": "execute_result"
    }
   ],
   "source": [
    "df.tail()"
   ]
  },
  {
   "cell_type": "markdown",
   "metadata": {},
   "source": [
    "After translation the text and problem seem more understandable.\n",
    "\n",
    "Now, we would like to know the exact (correct brand name) so that we may perform some string manipulation so that we may correct all other entries having some extra text with the same brand name.\n",
    "\n",
    "For example.\n",
    "\n",
    "All entries with Nike plus, nike clothes, nike shoes etc should be concatenated to one Nike brand."
   ]
  },
  {
   "cell_type": "code",
   "execution_count": null,
   "metadata": {},
   "outputs": [],
   "source": []
  },
  {
   "cell_type": "code",
   "execution_count": null,
   "metadata": {},
   "outputs": [],
   "source": []
  },
  {
   "cell_type": "code",
   "execution_count": null,
   "metadata": {},
   "outputs": [],
   "source": []
  }
 ],
 "metadata": {
  "kernelspec": {
   "display_name": "Python 3",
   "language": "python",
   "name": "python3"
  },
  "language_info": {
   "codemirror_mode": {
    "name": "ipython",
    "version": 3
   },
   "file_extension": ".py",
   "mimetype": "text/x-python",
   "name": "python",
   "nbconvert_exporter": "python",
   "pygments_lexer": "ipython3",
   "version": "3.8.0"
  },
  "orig_nbformat": 4
 },
 "nbformat": 4,
 "nbformat_minor": 2
}
