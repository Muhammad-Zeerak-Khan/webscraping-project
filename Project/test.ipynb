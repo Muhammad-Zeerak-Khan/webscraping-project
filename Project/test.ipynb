{
 "cells": [
  {
   "cell_type": "code",
   "execution_count": 4,
   "metadata": {},
   "outputs": [],
   "source": [
    "import pandas as pd"
   ]
  },
  {
   "cell_type": "code",
   "execution_count": 22,
   "metadata": {},
   "outputs": [],
   "source": [
    "df = pd.read_excel(\"../data/Assignment for a Data Manager Position in Gifka App.xlsx\", sheet_name=\"Gift Card #3 - Raaionit\")"
   ]
  },
  {
   "cell_type": "code",
   "execution_count": 23,
   "metadata": {},
   "outputs": [
    {
     "name": "stdout",
     "output_type": "stream",
     "text": [
      "<class 'pandas.core.frame.DataFrame'>\n",
      "RangeIndex: 347 entries, 0 to 346\n",
      "Data columns (total 7 columns):\n",
      " #   Column                                                                   Non-Null Count  Dtype \n",
      "---  ------                                                                   --------------  ----- \n",
      " 0   Card Name                                                                347 non-null    object\n",
      " 1   Card WebPage - (it seems like the site is currently under construction)  347 non-null    object\n",
      " 2   Brand Name + Branch Name                                                 347 non-null    object\n",
      " 3   Branch Address                                                           347 non-null    object\n",
      " 4   Branch Phone Number                                                      345 non-null    object\n",
      " 5   Brand Website                                                            329 non-null    object\n",
      " 6   Brand Description                                                        237 non-null    object\n",
      "dtypes: object(7)\n",
      "memory usage: 19.1+ KB\n"
     ]
    }
   ],
   "source": [
    "df.info()"
   ]
  },
  {
   "cell_type": "code",
   "execution_count": 26,
   "metadata": {},
   "outputs": [
    {
     "data": {
      "text/plain": [
       "array(['מקס ברנר כרמיאל', 'מקס ברנר ירושלים', 'SAI SUSHI BAR',\n",
       "       \"ג'אפן ג'אפן טבריה\", \"ג'אפן ג'אפן יקנעם עילית\",\n",
       "       \"ג'אפן ג'אפן אור עקיבא\", \"ג'פאן ג'פאן חדרה\", \"ג'אפן ג'אפן בית שמש\",\n",
       "       \"ג'אפן ג'אפן אריאל\", \"ג'פאן ג'פאן פתח תקווה\",\n",
       "       \"ג'אפן ג'אפן תל אביב\", \"ג'אפן ג'אפן גבעת שמואל\",\n",
       "       \"ג'אפן ג'אפן ירושלים\", \"ג'אפן ג'אפן מצפה רמון\", \"ג'ויה תל אביב\",\n",
       "       \"באשר פרומז'רי קריית מוצקין\", \"באשר פרומז'רי חיפה\",\n",
       "       \"באשר פרומז'רי עפולה\", \"באשר פרומז'רי זכרון יעקב\",\n",
       "       \"באשר פרומז'רי נתניה\", \"באשר פרומז'רי הוד השרון\",\n",
       "       \"באשר פרומז'רי רעננה\", \"באשר פרומז'רי תל אביב\",\n",
       "       \"באשר פרומז'רי סניף גבעתיים\",\n",
       "       \"באשר פרומז'רי ראשון לציון - הסניף סגור עד להודעה חדשה - עמכם הסליחה!\",\n",
       "       \"באשר פרומז'רי מודיעין\", \"באשר פרומז'רי רחובות\",\n",
       "       \"באשר פרומז'רי מישור אדומים\", \"באשר פרומז'רי מעלה אדומים\",\n",
       "       \"באשר פרומז'רי ירושלים\",\n",
       "       \"באשר פרומז'רי אשדוד - הסניף סגור עד להודעה חדשה - עמכם הסליחה!\",\n",
       "       \"באשר פרומז'רי נתיבות\", \"באשר פרומז'רי באר שבע\",\n",
       "       'THE WAFFLE FACTORY', 'ריבר כפר סבא', 'ריבר פתח תקווה',\n",
       "       'ריבר רמת גן', 'ריבר חולון', 'ריבר ראשון לציון', 'ריבר רחובות',\n",
       "       'ריבר אור יהודה', 'מיראבל פלאזה חיפה - ShareSpa',\n",
       "       \"מג'יק גרדן נשר - ShareSpa\", 'דן כרמל חיפה - ShareSpa',\n",
       "       'הרודס הרצליה - ShareSpa', 'ניקס הרצליה - ShareSpa',\n",
       "       'לאונרדו גורדן ביץ תל אביב - ShareSpa', 'הרודס תל אביב - ShareSpa',\n",
       "       'Arena - ShareSpa', \"פרנג'ליקו נוף הגליל\", \"פרנג'ליקו חיפה\",\n",
       "       'הסושיה מעלות תרשיחא', 'הסושיה עכו', 'הסושיה פתח תקווה',\n",
       "       'הסושיה תל אביב', 'הסושיה בת ים', 'הסושיה רחובות', 'הסושיה אילת',\n",
       "       'BARAK spa', 'קיפצובה', 'חצר עין כרם', 'Sheyan', 'אינגליש קייק',\n",
       "       'גרג ירושלים', 'מגדל דוד', 'לאונרדו פלאזה ירושלים', 'המוציא',\n",
       "       'כרמא', 'לה בורסה ירושלים', 'ביאנקיני ים המלח',\n",
       "       'קפה קפה בקעת הירדן', 'בית שמש - BLEECKER Bakery',\n",
       "       'Pancake House TLV', 'מתוקה תל אביב', 'קפה קפה חולון', 'Gorilla',\n",
       "       \"פטרה ביץ'\", 'סיציליאנו חולון', 'Baba Yaga', 'פעמיים קפה',\n",
       "       'איטלקיה בתחנה', 'café mayer', 'פנה פסטה בר', 'OLIVE KORNER',\n",
       "       'קפה קפה גבעת שמואל', 'R-11', 'saladin comfort', 'קפה קפה תל אביב',\n",
       "       'התרנגול הכחול', 'פיצה עגבניה תל אביב', 'קפה קפה בת ים',\n",
       "       'מקס ברנר תל אביב', 'ביסקוטי בני ברק', 'לה בורסה בני ברק',\n",
       "       'Glyko - היוונייה על האגם', 'בית דרך חיים תל אביב',\n",
       "       'קפה קפה ראשון לציון', 'הבימה', 'פלאפל גבאי', 'מקס ברנר פתח תקווה',\n",
       "       'קפה אביבים', 'הבייקריה*', 'גרג פתח תקווה', 'CAPTAIN HOOK',\n",
       "       'avant garde', 'פיצה עגבניה גבעתיים', 'BLEECKER Bakery - רמת גן',\n",
       "       'פיצה עגבניה חולון', 'MENA', 'מתוקה רמת גן', \"C'a Phe HANOI\",\n",
       "       'פיצה עגבניה רמת גן', 'רוי שוקולד תל אביב', 'אווזי',\n",
       "       'קומפנייא - מידטאון תל אביב', 'indira', 'ORO', 'מתוקה גבעתיים',\n",
       "       'פיצה עגבניה פתח תקווה', \"לחמיצ'ה\", 'LA FLEUR BOUTIQUE', 'בישולים',\n",
       "       'ENTRECOTE', 'ביסקוטי פתח תקווה', 'Rain Drop SPA', 'קפה פולה',\n",
       "       'מקס ברנר ראשון לציון', 'AIR CAFFE', 'קפה קפה עכו', 'simplybibo',\n",
       "       'קפה קפה מגדל העמק', 'הלנה בנמל קיסריה', 'TORTUGA', 'קקאו כרמיאל',\n",
       "       'רגבה- SEVEN SPA', 'רנה כרמיאל', 'קפה קפה חדרה', 'קקאו נוף הגליל',\n",
       "       'קפה קפה שפרעם', 'קפה קפה עפולה', 'iz café', 'קפה קפה קצרין',\n",
       "       'קפה קפה כפר יאסיף', 'דיאנא', 'דג דגן - מסעדת דגים כפרית',\n",
       "       'מוזיאון העמק', 'קפה קפה טמרה', 'קפה קפה שדי תרומות',\n",
       "       'קפה קפה מזרע', 'גולדן ספא', 'קפה קפה טבריה', 'ספא חמת קיסר',\n",
       "       'אל-מוכתאר', 'קפה קפה קריית שמונה', 'ספא פיורינה', 'uma',\n",
       "       'רנה ראש פינה', 'מועדון ארוחת בוקר', 'קימל בגלבוע',\n",
       "       'חוות הנופש - ורד הגליל', 'וילה תהילה', 'בקתות הגפן',\n",
       "       'דה קרינה - בוטיק שוקולד', 'קפה בגולף', 'קפה קפה חיפה',\n",
       "       'מנדרין גרנד קניון', 'קפאין חיפה', 'מקס ברנר קריית ביאליק',\n",
       "       'אווזי חיפה', 'UNICO', 'מנדרין קניון חיפה', 'קפה קפה נוף הגליל',\n",
       "       \"ג'ויה ראש פינה\", 'קפה קפה עין המפרץ', 'ESCAPELAND',\n",
       "       'קפה קפה קריית ים', 'לחם ארז קריית ביאליק', 'קפה מרקט נמרוד',\n",
       "       'קפה קפה קריית ביאליק', 'MILKA BAR', 'Raffaello',\n",
       "       'קפה קפה גן שמואל', 'Sueno', 'אוליב נהריה - Olive', \"הדרל'ה\",\n",
       "       'טנדוקה', 'קפה קפה נהריה', 'כפר הנופש מסריק',\n",
       "       'ספא קאנטרי גן עברון', 'קפה קפה ירכא', 'קפה קפה כפר כנא',\n",
       "       'מלון נס עמים', 'Acco Beach', 'קפה קפה מעיליא', 'הבקתות של סיון',\n",
       "       'קפה קפה נתיבות', 'EISAN THAI KITCHEN', 'הבוטקה', 'mood',\n",
       "       'קפה קפה נצרת', 'קפה קפה טייבה', 'איטלקיה בפשפשים*',\n",
       "       'CASINO SAN REMO', 'האגדה', 'Drive for fun', 'MY DIGO design',\n",
       "       'Torta Loca', 'קפה קפה אשדוד', 'BOOL CACTUS', 'קפה גרנד ויסטה',\n",
       "       'השוקת', \"איצ'יקדנה\", 'הלובי', 'Flamingo Spa', 'שלה ביער',\n",
       "       'קפה רוסטרס שוק מחנה יהודה', 'Alpaca Bar',\n",
       "       'ישראל 2 גו - סיורים קולינריים בשווקים', 'Butchery',\n",
       "       'ניגון הנפש - עינבל ערד', 'NUCHI - SUSHI&BAR', 'פריחת הסחלב',\n",
       "       'MA JOLIe', \"ספא גראז'\", 'לה בורסה אלעד', 'בין הזיתים',\n",
       "       'רוח דרומית', 'קפה רוסטרס ירושלים', 'בטבע קדרים בקתות גליליות',\n",
       "       'ספא צ׳אנג מיי - תל אביב', 'ספא צ׳אנג מיי - ראשון לציון',\n",
       "       'ספייסז הוד השרון', 'ספייסז רעננה', 'ספייסז קריית עקרון',\n",
       "       'ספייסז חיפה', 'ספייסז גבעתיים', 'ספייסז ראשון לציון',\n",
       "       'טרקטורוני לכיש - טיולי טרקטורונים ללא מדריך',\n",
       "       'לחיים! - יין מהחבית', 'אמירוס', 'DIAMOND FACTORY', '6 במאי',\n",
       "       'ממוס', 'shukeat', 'רפטינג נהר הירדן', 'שגב אקספרס קריית ביאליק',\n",
       "       'משה שגב מטבח שף כשר נתניה', 'שגב אקספרס הוד השרון',\n",
       "       'ניהון נו-בה – שגב יפני הוד השרון',\n",
       "       'ניהון נו-בה – שגב יפני פתח תקווה', 'שגב אקספרס רמת החייל',\n",
       "       'שגב אקספרס ראשון לציון', 'רוי שוקולד ראשון לציון',\n",
       "       'הולמס פלייס גבעת שמואל', 'הולמס פלייס גבעתיים',\n",
       "       'הולמס פלייס חיפה', 'הולמס פלייס מודיעין', 'הולמס פלייס רחובות',\n",
       "       'הולמס פלייס רעננה', 'הולמס פלייס תל אביב', 'FRENCHUK',\n",
       "       'קפה נמרוד תל אביב', 'שף על האש', 'הטבעונית - J17', \"PATRICK'S\",\n",
       "       'Café LUGANO', \"חנל'ה\", 'נגיסה עפולה', 'SHTROUDL',\n",
       "       'assemblage café', \"les J'umelles\", 'הולמס פלייס ראשון לציון',\n",
       "       'TIA', 'ביסקוטי קריית גת', 'ביסקוטי ראש העין', 'ROSETTA', 'GIGGSI',\n",
       "       'LUCIANA', 'מקס ברנר באר שבע', 'השיפודיה של שופן', 'אווז הזהב',\n",
       "       'קפה קרמה - לא יכובדו שוברים עד להודעה, עמכם הסליחה.',\n",
       "       'CASA DO BRASIL', 'PIATTO', 'ARMANNI', 'מעיין במדבר אירוח יהל',\n",
       "       'פיצה עגבניה באר שבע', 'פיצה עגבניה רמלה', 'קפה קפה ערד',\n",
       "       'קפה קפה באר שבע', 'גרג מודיעין', 'פיצה עגבניה אשקלון', 'GATOS',\n",
       "       'SCUBAR', 'סיציליאנו רחובות', 'Gusto CAFÉ', 'ספא אלוויט', 'נמסטה',\n",
       "       'אבו גוש גריל חומוס', 'SINTA', 'קפה רוסטרס מודיעין',\n",
       "       'פיצה עגבניה אשדוד', 'קפה קפה גדרה', 'קפה קפה רהט',\n",
       "       'קפה רוסטרס באר שבע', 'פיצה עגבניה אילת', 'הרצל בר קפה*', 'היגאיה',\n",
       "       'BLEECKER Bakery - אשדוד', 'לאו ספא - וילה בוטיק', 'מנטרה ספא',\n",
       "       'קפה קפה נתניה', 'BLEECKER Bakery - רעננה', 'Carrousel',\n",
       "       'גרג רעננה', 'שקולד', 'גרג כפר סבא', 'Bread and Breakfast',\n",
       "       'BUYLI', 'Marrakesh', 'סיציליאנו רעננה', \"ג'ימבו-לנד\",\n",
       "       'ביסקוטי נתניה', 'OLDIES PANCAKE BAR', 'זעפרן', 'מקס ברנר נתניה',\n",
       "       'לחם ארז נתניה', 'ביגה כפר סבא', 'מרינה ביי',\n",
       "       'BLEECKER Bakery - כפר סבא', 'La Vaca Loca', 'קפה קפה הרצליה',\n",
       "       'BISTRO 56', 'KYOTO', 'מקס ברנר הרצליה', 'BARDAK',\n",
       "       'קייקי כפר בלום', 'babycakes - gift boutique', 'פיצה עגבניה חיפה',\n",
       "       'סינמה סיטי חדרה', 'סינמה סיטי נתניה', 'סינמה סיטי כפר סבא',\n",
       "       'סינמה סיטי רמת השרון', 'סינמה סיטי ראשון לציון',\n",
       "       'סינמה סיטי ירושלים', 'סינמה סיטי אשדוד', 'סינמה סיטי באר שבע'],\n",
       "      dtype=object)"
      ]
     },
     "execution_count": 26,
     "metadata": {},
     "output_type": "execute_result"
    }
   ],
   "source": [
    "unique_brand_names = df['Brand Name + Branch Name'].unique()\n",
    "unique_brand_names"
   ]
  },
  {
   "cell_type": "code",
   "execution_count": 28,
   "metadata": {},
   "outputs": [
    {
     "data": {
      "text/plain": [
       "347"
      ]
     },
     "execution_count": 28,
     "metadata": {},
     "output_type": "execute_result"
    }
   ],
   "source": [
    "no_of_unique_brand_names = df['Brand Name + Branch Name'].nunique()\n",
    "no_of_unique_brand_names "
   ]
  },
  {
   "cell_type": "markdown",
   "metadata": {},
   "source": [
    "As mentioned in the instructions that the unique brands are just 187 however total entries are 347.\n",
    "\n",
    "As per in the hebrew the unique entries are given as the total number of entries. \n",
    "\n",
    "Therefore, going for language translation."
   ]
  },
  {
   "cell_type": "code",
   "execution_count": 35,
   "metadata": {},
   "outputs": [],
   "source": [
    "from googletrans import Translator\n",
    "def translate_column_hebrew_to_english(text : str) -> str:\n",
    "    translated = Translator().translate(text, src='he', dest='en')\n",
    "    return translated.text"
   ]
  },
  {
   "cell_type": "code",
   "execution_count": 36,
   "metadata": {},
   "outputs": [
    {
     "ename": "AttributeError",
     "evalue": "'NoneType' object has no attribute 'group'",
     "output_type": "error",
     "traceback": [
      "\u001b[1;31m---------------------------------------------------------------------------\u001b[0m",
      "\u001b[1;31mAttributeError\u001b[0m                            Traceback (most recent call last)",
      "\u001b[1;32mc:\\Practice\\Freelance\\Webscraping\\webscraping-project\\Project\\test.ipynb Cell 8\u001b[0m line \u001b[0;36m1\n\u001b[1;32m----> <a href='vscode-notebook-cell:/c%3A/Practice/Freelance/Webscraping/webscraping-project/Project/test.ipynb#X11sZmlsZQ%3D%3D?line=0'>1</a>\u001b[0m translated_text \u001b[39m=\u001b[39m translate_column_hebrew_to_english(text\u001b[39m=\u001b[39;49m \u001b[39m\"\u001b[39;49m\u001b[39mמקס ברנר כרמיאל\u001b[39;49m\u001b[39m\"\u001b[39;49m)\n\u001b[0;32m      <a href='vscode-notebook-cell:/c%3A/Practice/Freelance/Webscraping/webscraping-project/Project/test.ipynb#X11sZmlsZQ%3D%3D?line=1'>2</a>\u001b[0m translated_text\n",
      "\u001b[1;32mc:\\Practice\\Freelance\\Webscraping\\webscraping-project\\Project\\test.ipynb Cell 8\u001b[0m line \u001b[0;36m3\n\u001b[0;32m      <a href='vscode-notebook-cell:/c%3A/Practice/Freelance/Webscraping/webscraping-project/Project/test.ipynb#X11sZmlsZQ%3D%3D?line=1'>2</a>\u001b[0m \u001b[39mdef\u001b[39;00m \u001b[39mtranslate_column_hebrew_to_english\u001b[39m(text : \u001b[39mstr\u001b[39m) \u001b[39m-\u001b[39m\u001b[39m>\u001b[39m \u001b[39mstr\u001b[39m:\n\u001b[1;32m----> <a href='vscode-notebook-cell:/c%3A/Practice/Freelance/Webscraping/webscraping-project/Project/test.ipynb#X11sZmlsZQ%3D%3D?line=2'>3</a>\u001b[0m     translated \u001b[39m=\u001b[39m Translator()\u001b[39m.\u001b[39;49mtranslate(text, src\u001b[39m=\u001b[39;49m\u001b[39m'\u001b[39;49m\u001b[39mhe\u001b[39;49m\u001b[39m'\u001b[39;49m, dest\u001b[39m=\u001b[39;49m\u001b[39m'\u001b[39;49m\u001b[39men\u001b[39;49m\u001b[39m'\u001b[39;49m)\n\u001b[0;32m      <a href='vscode-notebook-cell:/c%3A/Practice/Freelance/Webscraping/webscraping-project/Project/test.ipynb#X11sZmlsZQ%3D%3D?line=3'>4</a>\u001b[0m     \u001b[39mreturn\u001b[39;00m translated\u001b[39m.\u001b[39mtext\n",
      "File \u001b[1;32mc:\\Practice\\Freelance\\Webscraping\\webscraping-project\\env\\lib\\site-packages\\googletrans\\client.py:182\u001b[0m, in \u001b[0;36mTranslator.translate\u001b[1;34m(self, text, dest, src, **kwargs)\u001b[0m\n\u001b[0;32m    179\u001b[0m     \u001b[39mreturn\u001b[39;00m result\n\u001b[0;32m    181\u001b[0m origin \u001b[39m=\u001b[39m text\n\u001b[1;32m--> 182\u001b[0m data \u001b[39m=\u001b[39m \u001b[39mself\u001b[39;49m\u001b[39m.\u001b[39;49m_translate(text, dest, src, kwargs)\n\u001b[0;32m    184\u001b[0m \u001b[39m# this code will be updated when the format is changed.\u001b[39;00m\n\u001b[0;32m    185\u001b[0m translated \u001b[39m=\u001b[39m \u001b[39m'\u001b[39m\u001b[39m'\u001b[39m\u001b[39m.\u001b[39mjoin([d[\u001b[39m0\u001b[39m] \u001b[39mif\u001b[39;00m d[\u001b[39m0\u001b[39m] \u001b[39melse\u001b[39;00m \u001b[39m'\u001b[39m\u001b[39m'\u001b[39m \u001b[39mfor\u001b[39;00m d \u001b[39min\u001b[39;00m data[\u001b[39m0\u001b[39m]])\n",
      "File \u001b[1;32mc:\\Practice\\Freelance\\Webscraping\\webscraping-project\\env\\lib\\site-packages\\googletrans\\client.py:78\u001b[0m, in \u001b[0;36mTranslator._translate\u001b[1;34m(self, text, dest, src, override)\u001b[0m\n\u001b[0;32m     77\u001b[0m \u001b[39mdef\u001b[39;00m \u001b[39m_translate\u001b[39m(\u001b[39mself\u001b[39m, text, dest, src, override):\n\u001b[1;32m---> 78\u001b[0m     token \u001b[39m=\u001b[39m \u001b[39mself\u001b[39;49m\u001b[39m.\u001b[39;49mtoken_acquirer\u001b[39m.\u001b[39;49mdo(text)\n\u001b[0;32m     79\u001b[0m     params \u001b[39m=\u001b[39m utils\u001b[39m.\u001b[39mbuild_params(query\u001b[39m=\u001b[39mtext, src\u001b[39m=\u001b[39msrc, dest\u001b[39m=\u001b[39mdest,\n\u001b[0;32m     80\u001b[0m                                 token\u001b[39m=\u001b[39mtoken, override\u001b[39m=\u001b[39moverride)\n\u001b[0;32m     82\u001b[0m     url \u001b[39m=\u001b[39m urls\u001b[39m.\u001b[39mTRANSLATE\u001b[39m.\u001b[39mformat(host\u001b[39m=\u001b[39m\u001b[39mself\u001b[39m\u001b[39m.\u001b[39m_pick_service_url())\n",
      "File \u001b[1;32mc:\\Practice\\Freelance\\Webscraping\\webscraping-project\\env\\lib\\site-packages\\googletrans\\gtoken.py:194\u001b[0m, in \u001b[0;36mTokenAcquirer.do\u001b[1;34m(self, text)\u001b[0m\n\u001b[0;32m    193\u001b[0m \u001b[39mdef\u001b[39;00m \u001b[39mdo\u001b[39m(\u001b[39mself\u001b[39m, text):\n\u001b[1;32m--> 194\u001b[0m     \u001b[39mself\u001b[39;49m\u001b[39m.\u001b[39;49m_update()\n\u001b[0;32m    195\u001b[0m     tk \u001b[39m=\u001b[39m \u001b[39mself\u001b[39m\u001b[39m.\u001b[39macquire(text)\n\u001b[0;32m    196\u001b[0m     \u001b[39mreturn\u001b[39;00m tk\n",
      "File \u001b[1;32mc:\\Practice\\Freelance\\Webscraping\\webscraping-project\\env\\lib\\site-packages\\googletrans\\gtoken.py:62\u001b[0m, in \u001b[0;36mTokenAcquirer._update\u001b[1;34m(self)\u001b[0m\n\u001b[0;32m     59\u001b[0m     \u001b[39mreturn\u001b[39;00m\n\u001b[0;32m     61\u001b[0m \u001b[39m# this will be the same as python code after stripping out a reserved word 'var'\u001b[39;00m\n\u001b[1;32m---> 62\u001b[0m code \u001b[39m=\u001b[39m \u001b[39mself\u001b[39;49m\u001b[39m.\u001b[39;49mRE_TKK\u001b[39m.\u001b[39;49msearch(r\u001b[39m.\u001b[39;49mtext)\u001b[39m.\u001b[39;49mgroup(\u001b[39m1\u001b[39m)\u001b[39m.\u001b[39mreplace(\u001b[39m'\u001b[39m\u001b[39mvar \u001b[39m\u001b[39m'\u001b[39m, \u001b[39m'\u001b[39m\u001b[39m'\u001b[39m)\n\u001b[0;32m     63\u001b[0m \u001b[39m# unescape special ascii characters such like a \\x3d(=)\u001b[39;00m\n\u001b[0;32m     64\u001b[0m code \u001b[39m=\u001b[39m code\u001b[39m.\u001b[39mencode()\u001b[39m.\u001b[39mdecode(\u001b[39m'\u001b[39m\u001b[39municode-escape\u001b[39m\u001b[39m'\u001b[39m)\n",
      "\u001b[1;31mAttributeError\u001b[0m: 'NoneType' object has no attribute 'group'"
     ]
    }
   ],
   "source": [
    "translated_text = translate_column_hebrew_to_english(text= \"מקס ברנר כרמיאל\")\n",
    "translated_text"
   ]
  },
  {
   "cell_type": "code",
   "execution_count": 47,
   "metadata": {},
   "outputs": [
    {
     "ename": "AttributeError",
     "evalue": "'NoneType' object has no attribute 'group'",
     "output_type": "error",
     "traceback": [
      "\u001b[1;31m---------------------------------------------------------------------------\u001b[0m",
      "\u001b[1;31mAttributeError\u001b[0m                            Traceback (most recent call last)",
      "\u001b[1;32mc:\\Practice\\Freelance\\Webscraping\\webscraping-project\\Project\\test.ipynb Cell 9\u001b[0m line \u001b[0;36m2\n\u001b[0;32m      <a href='vscode-notebook-cell:/c%3A/Practice/Freelance/Webscraping/webscraping-project/Project/test.ipynb#X12sZmlsZQ%3D%3D?line=0'>1</a>\u001b[0m translator \u001b[39m=\u001b[39m Translator()\n\u001b[1;32m----> <a href='vscode-notebook-cell:/c%3A/Practice/Freelance/Webscraping/webscraping-project/Project/test.ipynb#X12sZmlsZQ%3D%3D?line=1'>2</a>\u001b[0m translator\u001b[39m.\u001b[39;49mtranslate(text \u001b[39m=\u001b[39;49m\u001b[39m'\u001b[39;49m\u001b[39mHallo\u001b[39;49m\u001b[39m'\u001b[39;49m, dest\u001b[39m=\u001b[39;49m \u001b[39m'\u001b[39;49m\u001b[39men\u001b[39;49m\u001b[39m'\u001b[39;49m, src\u001b[39m=\u001b[39;49m\u001b[39m'\u001b[39;49m\u001b[39mde\u001b[39;49m\u001b[39m'\u001b[39;49m)\n\u001b[0;32m      <a href='vscode-notebook-cell:/c%3A/Practice/Freelance/Webscraping/webscraping-project/Project/test.ipynb#X12sZmlsZQ%3D%3D?line=2'>3</a>\u001b[0m translator\u001b[39m.\u001b[39mtext\n",
      "File \u001b[1;32mc:\\Practice\\Freelance\\Webscraping\\webscraping-project\\env\\lib\\site-packages\\googletrans\\client.py:182\u001b[0m, in \u001b[0;36mTranslator.translate\u001b[1;34m(self, text, dest, src, **kwargs)\u001b[0m\n\u001b[0;32m    179\u001b[0m     \u001b[39mreturn\u001b[39;00m result\n\u001b[0;32m    181\u001b[0m origin \u001b[39m=\u001b[39m text\n\u001b[1;32m--> 182\u001b[0m data \u001b[39m=\u001b[39m \u001b[39mself\u001b[39;49m\u001b[39m.\u001b[39;49m_translate(text, dest, src, kwargs)\n\u001b[0;32m    184\u001b[0m \u001b[39m# this code will be updated when the format is changed.\u001b[39;00m\n\u001b[0;32m    185\u001b[0m translated \u001b[39m=\u001b[39m \u001b[39m'\u001b[39m\u001b[39m'\u001b[39m\u001b[39m.\u001b[39mjoin([d[\u001b[39m0\u001b[39m] \u001b[39mif\u001b[39;00m d[\u001b[39m0\u001b[39m] \u001b[39melse\u001b[39;00m \u001b[39m'\u001b[39m\u001b[39m'\u001b[39m \u001b[39mfor\u001b[39;00m d \u001b[39min\u001b[39;00m data[\u001b[39m0\u001b[39m]])\n",
      "File \u001b[1;32mc:\\Practice\\Freelance\\Webscraping\\webscraping-project\\env\\lib\\site-packages\\googletrans\\client.py:78\u001b[0m, in \u001b[0;36mTranslator._translate\u001b[1;34m(self, text, dest, src, override)\u001b[0m\n\u001b[0;32m     77\u001b[0m \u001b[39mdef\u001b[39;00m \u001b[39m_translate\u001b[39m(\u001b[39mself\u001b[39m, text, dest, src, override):\n\u001b[1;32m---> 78\u001b[0m     token \u001b[39m=\u001b[39m \u001b[39mself\u001b[39;49m\u001b[39m.\u001b[39;49mtoken_acquirer\u001b[39m.\u001b[39;49mdo(text)\n\u001b[0;32m     79\u001b[0m     params \u001b[39m=\u001b[39m utils\u001b[39m.\u001b[39mbuild_params(query\u001b[39m=\u001b[39mtext, src\u001b[39m=\u001b[39msrc, dest\u001b[39m=\u001b[39mdest,\n\u001b[0;32m     80\u001b[0m                                 token\u001b[39m=\u001b[39mtoken, override\u001b[39m=\u001b[39moverride)\n\u001b[0;32m     82\u001b[0m     url \u001b[39m=\u001b[39m urls\u001b[39m.\u001b[39mTRANSLATE\u001b[39m.\u001b[39mformat(host\u001b[39m=\u001b[39m\u001b[39mself\u001b[39m\u001b[39m.\u001b[39m_pick_service_url())\n",
      "File \u001b[1;32mc:\\Practice\\Freelance\\Webscraping\\webscraping-project\\env\\lib\\site-packages\\googletrans\\gtoken.py:194\u001b[0m, in \u001b[0;36mTokenAcquirer.do\u001b[1;34m(self, text)\u001b[0m\n\u001b[0;32m    193\u001b[0m \u001b[39mdef\u001b[39;00m \u001b[39mdo\u001b[39m(\u001b[39mself\u001b[39m, text):\n\u001b[1;32m--> 194\u001b[0m     \u001b[39mself\u001b[39;49m\u001b[39m.\u001b[39;49m_update()\n\u001b[0;32m    195\u001b[0m     tk \u001b[39m=\u001b[39m \u001b[39mself\u001b[39m\u001b[39m.\u001b[39macquire(text)\n\u001b[0;32m    196\u001b[0m     \u001b[39mreturn\u001b[39;00m tk\n",
      "File \u001b[1;32mc:\\Practice\\Freelance\\Webscraping\\webscraping-project\\env\\lib\\site-packages\\googletrans\\gtoken.py:62\u001b[0m, in \u001b[0;36mTokenAcquirer._update\u001b[1;34m(self)\u001b[0m\n\u001b[0;32m     59\u001b[0m     \u001b[39mreturn\u001b[39;00m\n\u001b[0;32m     61\u001b[0m \u001b[39m# this will be the same as python code after stripping out a reserved word 'var'\u001b[39;00m\n\u001b[1;32m---> 62\u001b[0m code \u001b[39m=\u001b[39m \u001b[39mself\u001b[39;49m\u001b[39m.\u001b[39;49mRE_TKK\u001b[39m.\u001b[39;49msearch(r\u001b[39m.\u001b[39;49mtext)\u001b[39m.\u001b[39;49mgroup(\u001b[39m1\u001b[39m)\u001b[39m.\u001b[39mreplace(\u001b[39m'\u001b[39m\u001b[39mvar \u001b[39m\u001b[39m'\u001b[39m, \u001b[39m'\u001b[39m\u001b[39m'\u001b[39m)\n\u001b[0;32m     63\u001b[0m \u001b[39m# unescape special ascii characters such like a \\x3d(=)\u001b[39;00m\n\u001b[0;32m     64\u001b[0m code \u001b[39m=\u001b[39m code\u001b[39m.\u001b[39mencode()\u001b[39m.\u001b[39mdecode(\u001b[39m'\u001b[39m\u001b[39municode-escape\u001b[39m\u001b[39m'\u001b[39m)\n",
      "\u001b[1;31mAttributeError\u001b[0m: 'NoneType' object has no attribute 'group'"
     ]
    }
   ],
   "source": [
    "translator = Translator()\n",
    "translator.translate(text ='Hallo', dest= 'en', src='de')\n",
    "translator.text"
   ]
  },
  {
   "cell_type": "code",
   "execution_count": null,
   "metadata": {},
   "outputs": [],
   "source": []
  }
 ],
 "metadata": {
  "kernelspec": {
   "display_name": "Python 3",
   "language": "python",
   "name": "python3"
  },
  "language_info": {
   "codemirror_mode": {
    "name": "ipython",
    "version": 3
   },
   "file_extension": ".py",
   "mimetype": "text/x-python",
   "name": "python",
   "nbconvert_exporter": "python",
   "pygments_lexer": "ipython3",
   "version": "3.8.0"
  },
  "orig_nbformat": 4
 },
 "nbformat": 4,
 "nbformat_minor": 2
}
