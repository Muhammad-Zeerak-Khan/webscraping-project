{
 "cells": [
  {
   "cell_type": "code",
   "execution_count": 2,
   "metadata": {},
   "outputs": [],
   "source": [
    "import pandas as pd"
   ]
  },
  {
   "cell_type": "code",
   "execution_count": 3,
   "metadata": {},
   "outputs": [],
   "source": [
    "df = pd.read_excel(\"../data/Assignment for a Data Manager Position in Gifka App.xlsx\", sheet_name=\"Gift Card #1 - BuyMe All\")"
   ]
  },
  {
   "cell_type": "code",
   "execution_count": 4,
   "metadata": {},
   "outputs": [
    {
     "name": "stdout",
     "output_type": "stream",
     "text": [
      "<class 'pandas.core.frame.DataFrame'>\n",
      "RangeIndex: 955 entries, 0 to 954\n",
      "Data columns (total 4 columns):\n",
      " #   Column        Non-Null Count  Dtype \n",
      "---  ------        --------------  ----- \n",
      " 0   Card Name     955 non-null    object\n",
      " 1   Card Webpage  955 non-null    object\n",
      " 2   Brand Name    955 non-null    object\n",
      " 3   Website       928 non-null    object\n",
      "dtypes: object(4)\n",
      "memory usage: 30.0+ KB\n"
     ]
    }
   ],
   "source": [
    "df.info()"
   ]
  },
  {
   "cell_type": "markdown",
   "metadata": {},
   "source": [
    "# Problem : Duplicate Brand Names"
   ]
  },
  {
   "cell_type": "code",
   "execution_count": 35,
   "metadata": {},
   "outputs": [
    {
     "data": {
      "text/plain": [
       "164"
      ]
     },
     "execution_count": 35,
     "metadata": {},
     "output_type": "execute_result"
    }
   ],
   "source": [
    "no_of_unique_brand_names = df['Brand_name'].nunique()\n",
    "no_of_unique_brand_names"
   ]
  },
  {
   "cell_type": "markdown",
   "metadata": {},
   "source": [
    "As mentioned in the instructions that the unique brands are different from the total entries\n",
    "\n",
    "To better understand the repeating brand names going for language translation."
   ]
  },
  {
   "cell_type": "code",
   "execution_count": 36,
   "metadata": {},
   "outputs": [],
   "source": [
    "from googletrans import Translator\n",
    "def translate_column_hebrew_to_english(text : str) -> str:\n",
    "    translated = Translator().translate(text, src='he', dest='en')\n",
    "    return translated.text"
   ]
  },
  {
   "cell_type": "code",
   "execution_count": 37,
   "metadata": {},
   "outputs": [
    {
     "data": {
      "text/plain": [
       "'Max Brenner Carmiel'"
      ]
     },
     "execution_count": 37,
     "metadata": {},
     "output_type": "execute_result"
    }
   ],
   "source": [
    "translated_text = translate_column_hebrew_to_english(text= \"מקס ברנר כרמיאל\")\n",
    "translated_text"
   ]
  },
  {
   "cell_type": "code",
   "execution_count": 39,
   "metadata": {},
   "outputs": [
    {
     "data": {
      "text/plain": [
       "dtype('O')"
      ]
     },
     "execution_count": 39,
     "metadata": {},
     "output_type": "execute_result"
    }
   ],
   "source": [
    "df['Brand_name'].dtype"
   ]
  },
  {
   "cell_type": "code",
   "execution_count": 40,
   "metadata": {},
   "outputs": [],
   "source": [
    "df['Brand_name(English)'] = df['Brand_name'].apply(translate_column_hebrew_to_english)"
   ]
  },
  {
   "cell_type": "code",
   "execution_count": 41,
   "metadata": {},
   "outputs": [
    {
     "data": {
      "text/plain": [
       "163"
      ]
     },
     "execution_count": 41,
     "metadata": {},
     "output_type": "execute_result"
    }
   ],
   "source": [
    "df['Brand_name(English)'].nunique()"
   ]
  },
  {
   "cell_type": "code",
   "execution_count": 45,
   "metadata": {},
   "outputs": [
    {
     "data": {
      "text/html": [
       "<div>\n",
       "<style scoped>\n",
       "    .dataframe tbody tr th:only-of-type {\n",
       "        vertical-align: middle;\n",
       "    }\n",
       "\n",
       "    .dataframe tbody tr th {\n",
       "        vertical-align: top;\n",
       "    }\n",
       "\n",
       "    .dataframe thead th {\n",
       "        text-align: right;\n",
       "    }\n",
       "</style>\n",
       "<table border=\"1\" class=\"dataframe\">\n",
       "  <thead>\n",
       "    <tr style=\"text-align: right;\">\n",
       "      <th></th>\n",
       "      <th>Card Name</th>\n",
       "      <th>Card Webpage</th>\n",
       "      <th>Brand_name</th>\n",
       "      <th>Website</th>\n",
       "      <th>Unnamed: 4</th>\n",
       "      <th>Unnamed: 5</th>\n",
       "      <th>Unnamed: 6</th>\n",
       "      <th>Unnamed: 7</th>\n",
       "      <th>Unnamed: 8</th>\n",
       "      <th>Unnamed: 9</th>\n",
       "      <th>Unnamed: 10</th>\n",
       "      <th>Brand_name(English)</th>\n",
       "    </tr>\n",
       "  </thead>\n",
       "  <tbody>\n",
       "    <tr>\n",
       "      <th>160</th>\n",
       "      <td>Tav HaZahav Shufersal - שופרסל - תו הזהב</td>\n",
       "      <td>https://tavhazahav.shufersal.co.il/tavhazahav/</td>\n",
       "      <td>שופרסל שלי</td>\n",
       "      <td>NaN</td>\n",
       "      <td>NaN</td>\n",
       "      <td>NaN</td>\n",
       "      <td>NaN</td>\n",
       "      <td>NaN</td>\n",
       "      <td>NaN</td>\n",
       "      <td>NaN</td>\n",
       "      <td>NaN</td>\n",
       "      <td>My Shufersal</td>\n",
       "    </tr>\n",
       "    <tr>\n",
       "      <th>161</th>\n",
       "      <td>Tav HaZahav Shufersal - שופרסל - תו הזהב</td>\n",
       "      <td>https://tavhazahav.shufersal.co.il/tavhazahav/</td>\n",
       "      <td>שילב</td>\n",
       "      <td>NaN</td>\n",
       "      <td>NaN</td>\n",
       "      <td>NaN</td>\n",
       "      <td>NaN</td>\n",
       "      <td>NaN</td>\n",
       "      <td>NaN</td>\n",
       "      <td>NaN</td>\n",
       "      <td>NaN</td>\n",
       "      <td>Incorporated</td>\n",
       "    </tr>\n",
       "    <tr>\n",
       "      <th>162</th>\n",
       "      <td>Tav HaZahav Shufersal - שופרסל - תו הזהב</td>\n",
       "      <td>https://tavhazahav.shufersal.co.il/tavhazahav/</td>\n",
       "      <td>שיפודי אווזי - התקווה תל אביב</td>\n",
       "      <td>https://avazi-hatikva.rest.co.il/</td>\n",
       "      <td>NaN</td>\n",
       "      <td>NaN</td>\n",
       "      <td>NaN</td>\n",
       "      <td>NaN</td>\n",
       "      <td>NaN</td>\n",
       "      <td>NaN</td>\n",
       "      <td>NaN</td>\n",
       "      <td>Ozi Skewers - Hope Tel Aviv</td>\n",
       "    </tr>\n",
       "    <tr>\n",
       "      <th>163</th>\n",
       "      <td>Tav HaZahav Shufersal - שופרסל - תו הזהב</td>\n",
       "      <td>https://tavhazahav.shufersal.co.il/tavhazahav/</td>\n",
       "      <td>שקם אלקטריק</td>\n",
       "      <td>NaN</td>\n",
       "      <td>NaN</td>\n",
       "      <td>NaN</td>\n",
       "      <td>NaN</td>\n",
       "      <td>NaN</td>\n",
       "      <td>NaN</td>\n",
       "      <td>NaN</td>\n",
       "      <td>NaN</td>\n",
       "      <td>Consider Electric</td>\n",
       "    </tr>\n",
       "    <tr>\n",
       "      <th>164</th>\n",
       "      <td>Tav HaZahav Shufersal - שופרסל - תו הזהב</td>\n",
       "      <td>https://tavhazahav.shufersal.co.il/tavhazahav/</td>\n",
       "      <td>תיק התיקים</td>\n",
       "      <td>NaN</td>\n",
       "      <td>NaN</td>\n",
       "      <td>NaN</td>\n",
       "      <td>NaN</td>\n",
       "      <td>NaN</td>\n",
       "      <td>NaN</td>\n",
       "      <td>NaN</td>\n",
       "      <td>NaN</td>\n",
       "      <td>The bag bag</td>\n",
       "    </tr>\n",
       "  </tbody>\n",
       "</table>\n",
       "</div>"
      ],
      "text/plain": [
       "                                    Card Name  \\\n",
       "160  Tav HaZahav Shufersal - שופרסל - תו הזהב   \n",
       "161  Tav HaZahav Shufersal - שופרסל - תו הזהב   \n",
       "162  Tav HaZahav Shufersal - שופרסל - תו הזהב   \n",
       "163  Tav HaZahav Shufersal - שופרסל - תו הזהב   \n",
       "164  Tav HaZahav Shufersal - שופרסל - תו הזהב   \n",
       "\n",
       "                                       Card Webpage  \\\n",
       "160  https://tavhazahav.shufersal.co.il/tavhazahav/   \n",
       "161  https://tavhazahav.shufersal.co.il/tavhazahav/   \n",
       "162  https://tavhazahav.shufersal.co.il/tavhazahav/   \n",
       "163  https://tavhazahav.shufersal.co.il/tavhazahav/   \n",
       "164  https://tavhazahav.shufersal.co.il/tavhazahav/   \n",
       "\n",
       "                        Brand_name                            Website  \\\n",
       "160                     שופרסל שלי                                NaN   \n",
       "161                           שילב                                NaN   \n",
       "162  שיפודי אווזי - התקווה תל אביב  https://avazi-hatikva.rest.co.il/   \n",
       "163                    שקם אלקטריק                                NaN   \n",
       "164                     תיק התיקים                                NaN   \n",
       "\n",
       "     Unnamed: 4  Unnamed: 5  Unnamed: 6  Unnamed: 7  Unnamed: 8  Unnamed: 9  \\\n",
       "160         NaN         NaN         NaN         NaN         NaN         NaN   \n",
       "161         NaN         NaN         NaN         NaN         NaN         NaN   \n",
       "162         NaN         NaN         NaN         NaN         NaN         NaN   \n",
       "163         NaN         NaN         NaN         NaN         NaN         NaN   \n",
       "164         NaN         NaN         NaN         NaN         NaN         NaN   \n",
       "\n",
       "    Unnamed: 10          Brand_name(English)  \n",
       "160         NaN                 My Shufersal  \n",
       "161         NaN                 Incorporated  \n",
       "162         NaN  Ozi Skewers - Hope Tel Aviv  \n",
       "163         NaN            Consider Electric  \n",
       "164         NaN                  The bag bag  "
      ]
     },
     "execution_count": 45,
     "metadata": {},
     "output_type": "execute_result"
    }
   ],
   "source": [
    "df.tail()"
   ]
  },
  {
   "cell_type": "markdown",
   "metadata": {},
   "source": [
    "After translation the text and problem seem more understandable.\n",
    "\n",
    "Now, we would like to know the exact (correct brand name) so that we may perform some string manipulation so that we may correct all other entries having some extra text with the same brand name.\n",
    "\n",
    "For example.\n",
    "\n",
    "All entries with Nike plus, nike clothes, nike shoes etc should be concatenated to one Nike brand."
   ]
  },
  {
   "cell_type": "code",
   "execution_count": null,
   "metadata": {},
   "outputs": [],
   "source": []
  },
  {
   "cell_type": "markdown",
   "metadata": {},
   "source": [
    "## Problem : Websites missing for some brands"
   ]
  },
  {
   "cell_type": "code",
   "execution_count": 11,
   "metadata": {},
   "outputs": [
    {
     "data": {
      "text/plain": [
       "Card Name       27\n",
       "Card Webpage    27\n",
       "Brand Name      27\n",
       "Website          0\n",
       "dtype: int64"
      ]
     },
     "execution_count": 11,
     "metadata": {},
     "output_type": "execute_result"
    }
   ],
   "source": [
    "df[df['Website'].isna()].count()"
   ]
  },
  {
   "cell_type": "markdown",
   "metadata": {},
   "source": [
    "27 places where the website column has missing values"
   ]
  },
  {
   "cell_type": "code",
   "execution_count": 27,
   "metadata": {},
   "outputs": [
    {
     "data": {
      "text/html": [
       "<div>\n",
       "<style scoped>\n",
       "    .dataframe tbody tr th:only-of-type {\n",
       "        vertical-align: middle;\n",
       "    }\n",
       "\n",
       "    .dataframe tbody tr th {\n",
       "        vertical-align: top;\n",
       "    }\n",
       "\n",
       "    .dataframe thead th {\n",
       "        text-align: right;\n",
       "    }\n",
       "</style>\n",
       "<table border=\"1\" class=\"dataframe\">\n",
       "  <thead>\n",
       "    <tr style=\"text-align: right;\">\n",
       "      <th></th>\n",
       "      <th>Card Name</th>\n",
       "      <th>Card Webpage</th>\n",
       "      <th>Brand Name</th>\n",
       "      <th>Website</th>\n",
       "    </tr>\n",
       "  </thead>\n",
       "  <tbody>\n",
       "    <tr>\n",
       "      <th>928</th>\n",
       "      <td>BuyMe All - ביימי</td>\n",
       "      <td>https://buyme.co.il/brands/13438757</td>\n",
       "      <td>Bobbi Brown - בובי בראון</td>\n",
       "      <td>NaN</td>\n",
       "    </tr>\n",
       "    <tr>\n",
       "      <th>929</th>\n",
       "      <td>BuyMe All - ביימי</td>\n",
       "      <td>https://buyme.co.il/brands/13438757</td>\n",
       "      <td>Carter's/Oshkosh</td>\n",
       "      <td>NaN</td>\n",
       "    </tr>\n",
       "    <tr>\n",
       "      <th>930</th>\n",
       "      <td>BuyMe All - ביימי</td>\n",
       "      <td>https://buyme.co.il/brands/13438757</td>\n",
       "      <td>CLINIQE - קליניק</td>\n",
       "      <td>NaN</td>\n",
       "    </tr>\n",
       "    <tr>\n",
       "      <th>931</th>\n",
       "      <td>BuyMe All - ביימי</td>\n",
       "      <td>https://buyme.co.il/brands/13438757</td>\n",
       "      <td>Converse - קונברס</td>\n",
       "      <td>NaN</td>\n",
       "    </tr>\n",
       "    <tr>\n",
       "      <th>932</th>\n",
       "      <td>BuyMe All - ביימי</td>\n",
       "      <td>https://buyme.co.il/brands/13438757</td>\n",
       "      <td>DKNY</td>\n",
       "      <td>NaN</td>\n",
       "    </tr>\n",
       "    <tr>\n",
       "      <th>933</th>\n",
       "      <td>BuyMe All - ביימי</td>\n",
       "      <td>https://buyme.co.il/brands/13438757</td>\n",
       "      <td>ESTEE LAUDER - אסתי לאודר</td>\n",
       "      <td>NaN</td>\n",
       "    </tr>\n",
       "    <tr>\n",
       "      <th>934</th>\n",
       "      <td>BuyMe All - ביימי</td>\n",
       "      <td>https://buyme.co.il/brands/13438757</td>\n",
       "      <td>H&amp;O</td>\n",
       "      <td>NaN</td>\n",
       "    </tr>\n",
       "    <tr>\n",
       "      <th>935</th>\n",
       "      <td>BuyMe All - ביימי</td>\n",
       "      <td>https://buyme.co.il/brands/13438757</td>\n",
       "      <td>INTER JEANS BY NYOU</td>\n",
       "      <td>NaN</td>\n",
       "    </tr>\n",
       "    <tr>\n",
       "      <th>936</th>\n",
       "      <td>BuyMe All - ביימי</td>\n",
       "      <td>https://buyme.co.il/brands/13438757</td>\n",
       "      <td>JO MALONE LONDON- ג'ו מלון לונדון</td>\n",
       "      <td>NaN</td>\n",
       "    </tr>\n",
       "    <tr>\n",
       "      <th>937</th>\n",
       "      <td>BuyMe All - ביימי</td>\n",
       "      <td>https://buyme.co.il/brands/13438757</td>\n",
       "      <td>L.Raphael Beauty Spa</td>\n",
       "      <td>NaN</td>\n",
       "    </tr>\n",
       "    <tr>\n",
       "      <th>938</th>\n",
       "      <td>BuyMe All - ביימי</td>\n",
       "      <td>https://buyme.co.il/brands/13438757</td>\n",
       "      <td>MAC - מאק</td>\n",
       "      <td>NaN</td>\n",
       "    </tr>\n",
       "    <tr>\n",
       "      <th>939</th>\n",
       "      <td>BuyMe All - ביימי</td>\n",
       "      <td>https://buyme.co.il/brands/13438757</td>\n",
       "      <td>MULTI BRANDS - מולטי ברנדס</td>\n",
       "      <td>NaN</td>\n",
       "    </tr>\n",
       "    <tr>\n",
       "      <th>940</th>\n",
       "      <td>BuyMe All - ביימי</td>\n",
       "      <td>https://buyme.co.il/brands/13438757</td>\n",
       "      <td>REPLAY</td>\n",
       "      <td>NaN</td>\n",
       "    </tr>\n",
       "    <tr>\n",
       "      <th>941</th>\n",
       "      <td>BuyMe All - ביימי</td>\n",
       "      <td>https://buyme.co.il/brands/13438757</td>\n",
       "      <td>seven spa- אוליב בגלבוע</td>\n",
       "      <td>NaN</td>\n",
       "    </tr>\n",
       "    <tr>\n",
       "      <th>942</th>\n",
       "      <td>BuyMe All - ביימי</td>\n",
       "      <td>https://buyme.co.il/brands/13438757</td>\n",
       "      <td>smashbox- סמאשבוקס</td>\n",
       "      <td>NaN</td>\n",
       "    </tr>\n",
       "    <tr>\n",
       "      <th>943</th>\n",
       "      <td>BuyMe All - ביימי</td>\n",
       "      <td>https://buyme.co.il/brands/13438757</td>\n",
       "      <td>STEVE MADDEN</td>\n",
       "      <td>NaN</td>\n",
       "    </tr>\n",
       "    <tr>\n",
       "      <th>944</th>\n",
       "      <td>BuyMe All - ביימי</td>\n",
       "      <td>https://buyme.co.il/brands/13438757</td>\n",
       "      <td>ורדינון - VARDINON</td>\n",
       "      <td>NaN</td>\n",
       "    </tr>\n",
       "    <tr>\n",
       "      <th>945</th>\n",
       "      <td>BuyMe All - ביימי</td>\n",
       "      <td>https://buyme.co.il/brands/13438757</td>\n",
       "      <td>חנות - משקפיים</td>\n",
       "      <td>NaN</td>\n",
       "    </tr>\n",
       "    <tr>\n",
       "      <th>946</th>\n",
       "      <td>BuyMe All - ביימי</td>\n",
       "      <td>https://buyme.co.il/brands/13438757</td>\n",
       "      <td>מגה ספורט - Mega Sport</td>\n",
       "      <td>NaN</td>\n",
       "    </tr>\n",
       "    <tr>\n",
       "      <th>947</th>\n",
       "      <td>BuyMe All - ביימי</td>\n",
       "      <td>https://buyme.co.il/brands/13438757</td>\n",
       "      <td>מותגי אופנה INTER JEANS</td>\n",
       "      <td>NaN</td>\n",
       "    </tr>\n",
       "    <tr>\n",
       "      <th>948</th>\n",
       "      <td>BuyMe All - ביימי</td>\n",
       "      <td>https://buyme.co.il/brands/13438757</td>\n",
       "      <td>מלונות אוליב ורימונים</td>\n",
       "      <td>NaN</td>\n",
       "    </tr>\n",
       "    <tr>\n",
       "      <th>949</th>\n",
       "      <td>BuyMe All - ביימי</td>\n",
       "      <td>https://buyme.co.il/brands/13438757</td>\n",
       "      <td>מנגו MANGO</td>\n",
       "      <td>NaN</td>\n",
       "    </tr>\n",
       "    <tr>\n",
       "      <th>950</th>\n",
       "      <td>BuyMe All - ביימי</td>\n",
       "      <td>https://buyme.co.il/brands/13438757</td>\n",
       "      <td>מסעדת JOY גריל האוס</td>\n",
       "      <td>NaN</td>\n",
       "    </tr>\n",
       "    <tr>\n",
       "      <th>951</th>\n",
       "      <td>BuyMe All - ביימי</td>\n",
       "      <td>https://buyme.co.il/brands/13438757</td>\n",
       "      <td>מסעדת גסטה</td>\n",
       "      <td>NaN</td>\n",
       "    </tr>\n",
       "    <tr>\n",
       "      <th>952</th>\n",
       "      <td>BuyMe All - ביימי</td>\n",
       "      <td>https://buyme.co.il/brands/13438757</td>\n",
       "      <td>נעמן - NAAMAN</td>\n",
       "      <td>NaN</td>\n",
       "    </tr>\n",
       "    <tr>\n",
       "      <th>953</th>\n",
       "      <td>BuyMe All - ביימי</td>\n",
       "      <td>https://buyme.co.il/brands/13438757</td>\n",
       "      <td>קבוצת אסתי לאודר, MAC בובי בראון</td>\n",
       "      <td>NaN</td>\n",
       "    </tr>\n",
       "    <tr>\n",
       "      <th>954</th>\n",
       "      <td>BuyMe All - ביימי</td>\n",
       "      <td>https://buyme.co.il/brands/13438757</td>\n",
       "      <td>רזילי - Razili</td>\n",
       "      <td>NaN</td>\n",
       "    </tr>\n",
       "  </tbody>\n",
       "</table>\n",
       "</div>"
      ],
      "text/plain": [
       "             Card Name                         Card Webpage  \\\n",
       "928  BuyMe All - ביימי  https://buyme.co.il/brands/13438757   \n",
       "929  BuyMe All - ביימי  https://buyme.co.il/brands/13438757   \n",
       "930  BuyMe All - ביימי  https://buyme.co.il/brands/13438757   \n",
       "931  BuyMe All - ביימי  https://buyme.co.il/brands/13438757   \n",
       "932  BuyMe All - ביימי  https://buyme.co.il/brands/13438757   \n",
       "933  BuyMe All - ביימי  https://buyme.co.il/brands/13438757   \n",
       "934  BuyMe All - ביימי  https://buyme.co.il/brands/13438757   \n",
       "935  BuyMe All - ביימי  https://buyme.co.il/brands/13438757   \n",
       "936  BuyMe All - ביימי  https://buyme.co.il/brands/13438757   \n",
       "937  BuyMe All - ביימי  https://buyme.co.il/brands/13438757   \n",
       "938  BuyMe All - ביימי  https://buyme.co.il/brands/13438757   \n",
       "939  BuyMe All - ביימי  https://buyme.co.il/brands/13438757   \n",
       "940  BuyMe All - ביימי  https://buyme.co.il/brands/13438757   \n",
       "941  BuyMe All - ביימי  https://buyme.co.il/brands/13438757   \n",
       "942  BuyMe All - ביימי  https://buyme.co.il/brands/13438757   \n",
       "943  BuyMe All - ביימי  https://buyme.co.il/brands/13438757   \n",
       "944  BuyMe All - ביימי  https://buyme.co.il/brands/13438757   \n",
       "945  BuyMe All - ביימי  https://buyme.co.il/brands/13438757   \n",
       "946  BuyMe All - ביימי  https://buyme.co.il/brands/13438757   \n",
       "947  BuyMe All - ביימי  https://buyme.co.il/brands/13438757   \n",
       "948  BuyMe All - ביימי  https://buyme.co.il/brands/13438757   \n",
       "949  BuyMe All - ביימי  https://buyme.co.il/brands/13438757   \n",
       "950  BuyMe All - ביימי  https://buyme.co.il/brands/13438757   \n",
       "951  BuyMe All - ביימי  https://buyme.co.il/brands/13438757   \n",
       "952  BuyMe All - ביימי  https://buyme.co.il/brands/13438757   \n",
       "953  BuyMe All - ביימי  https://buyme.co.il/brands/13438757   \n",
       "954  BuyMe All - ביימי  https://buyme.co.il/brands/13438757   \n",
       "\n",
       "                            Brand Name Website  \n",
       "928           Bobbi Brown - בובי בראון     NaN  \n",
       "929                   Carter's/Oshkosh     NaN  \n",
       "930                   CLINIQE - קליניק     NaN  \n",
       "931                  Converse - קונברס     NaN  \n",
       "932                               DKNY     NaN  \n",
       "933          ESTEE LAUDER - אסתי לאודר     NaN  \n",
       "934                                H&O     NaN  \n",
       "935                INTER JEANS BY NYOU     NaN  \n",
       "936  JO MALONE LONDON- ג'ו מלון לונדון     NaN  \n",
       "937               L.Raphael Beauty Spa     NaN  \n",
       "938                          MAC - מאק     NaN  \n",
       "939         MULTI BRANDS - מולטי ברנדס     NaN  \n",
       "940                             REPLAY     NaN  \n",
       "941            seven spa- אוליב בגלבוע     NaN  \n",
       "942                 smashbox- סמאשבוקס     NaN  \n",
       "943                       STEVE MADDEN     NaN  \n",
       "944                 ורדינון - VARDINON     NaN  \n",
       "945                     חנות - משקפיים     NaN  \n",
       "946             מגה ספורט - Mega Sport     NaN  \n",
       "947            מותגי אופנה INTER JEANS     NaN  \n",
       "948              מלונות אוליב ורימונים     NaN  \n",
       "949                         מנגו MANGO     NaN  \n",
       "950                מסעדת JOY גריל האוס     NaN  \n",
       "951                         מסעדת גסטה     NaN  \n",
       "952                      נעמן - NAAMAN     NaN  \n",
       "953   קבוצת אסתי לאודר, MAC בובי בראון     NaN  \n",
       "954                     רזילי - Razili     NaN  "
      ]
     },
     "execution_count": 27,
     "metadata": {},
     "output_type": "execute_result"
    }
   ],
   "source": [
    "import numpy as np\n",
    "df[df['Website'].isnull()]"
   ]
  },
  {
   "cell_type": "markdown",
   "metadata": {},
   "source": [
    "def impute_brand_website(df : pd.DataFrame) -> pd.DataFrame:\n",
    "    missing_series = df['Website'][df['Website'].isna()]"
   ]
  },
  {
   "cell_type": "code",
   "execution_count": 65,
   "metadata": {},
   "outputs": [
    {
     "data": {
      "text/plain": [
       "928             Bobbi Brown - בובי בראון\n",
       "929                     Carter's/Oshkosh\n",
       "930                     CLINIQE - קליניק\n",
       "931                    Converse - קונברס\n",
       "932                                 DKNY\n",
       "933            ESTEE LAUDER - אסתי לאודר\n",
       "934                                  H&O\n",
       "935                  INTER JEANS BY NYOU\n",
       "936    JO MALONE LONDON- ג'ו מלון לונדון\n",
       "937                 L.Raphael Beauty Spa\n",
       "938                            MAC - מאק\n",
       "939           MULTI BRANDS - מולטי ברנדס\n",
       "940                               REPLAY\n",
       "941              seven spa- אוליב בגלבוע\n",
       "942                   smashbox- סמאשבוקס\n",
       "943                         STEVE MADDEN\n",
       "944                   ורדינון - VARDINON\n",
       "945                       חנות - משקפיים\n",
       "946               מגה ספורט - Mega Sport\n",
       "947              מותגי אופנה INTER JEANS\n",
       "948                מלונות אוליב ורימונים\n",
       "949                           מנגו MANGO\n",
       "950                  מסעדת JOY גריל האוס\n",
       "951                           מסעדת גסטה\n",
       "952                        נעמן - NAAMAN\n",
       "953     קבוצת אסתי לאודר, MAC בובי בראון\n",
       "954                       רזילי - Razili\n",
       "Name: Brand Name, dtype: object"
      ]
     },
     "execution_count": 65,
     "metadata": {},
     "output_type": "execute_result"
    }
   ],
   "source": [
    "missing_brands = df['Brand Name'][df['Website'].isna()]\n",
    "missing_brands"
   ]
  },
  {
   "cell_type": "code",
   "execution_count": 55,
   "metadata": {},
   "outputs": [
    {
     "data": {
      "text/plain": [
       "928    NaN\n",
       "929    NaN\n",
       "930    NaN\n",
       "931    NaN\n",
       "932    NaN\n",
       "933    NaN\n",
       "934    NaN\n",
       "935    NaN\n",
       "936    NaN\n",
       "937    NaN\n",
       "938    NaN\n",
       "939    NaN\n",
       "940    NaN\n",
       "941    NaN\n",
       "942    NaN\n",
       "943    NaN\n",
       "944    NaN\n",
       "945    NaN\n",
       "946    NaN\n",
       "947    NaN\n",
       "948    NaN\n",
       "949    NaN\n",
       "950    NaN\n",
       "951    NaN\n",
       "952    NaN\n",
       "953    NaN\n",
       "954    NaN\n",
       "Name: Website, dtype: object"
      ]
     },
     "execution_count": 55,
     "metadata": {},
     "output_type": "execute_result"
    }
   ],
   "source": [
    "filtered_df = df['Website'][df['Brand Name'].isin(missing_brands)]\n",
    "filtered_df"
   ]
  },
  {
   "cell_type": "markdown",
   "metadata": {},
   "source": [
    " The brand name that have missing websites also doesnot appear anywhere else, from where the website entry could be taken and imputed where it's missing. Which means, the missing websites are to be filled manually."
   ]
  },
  {
   "cell_type": "code",
   "execution_count": 70,
   "metadata": {},
   "outputs": [
    {
     "ename": "HTTPError",
     "evalue": "429 Client Error: Too Many Requests for url: https://www.google.com/sorry/index?continue=https://www.google.com/search%3Fq%3DNike%252Bofficial%252Bwebsite%26num%3D3%26hl%3Den%26start%3D0&hl=en&q=EgRZup-aGOq3oagGIjCm3WvFIl6D5_uuPXrM0QGeW2_ZeNpTfWCz3IHE3aQzfFl9vSm0VeF1sRsD6cZtd9syAXJaAUM",
     "output_type": "error",
     "traceback": [
      "\u001b[1;31m---------------------------------------------------------------------------\u001b[0m",
      "\u001b[1;31mHTTPError\u001b[0m                                 Traceback (most recent call last)",
      "\u001b[1;32mc:\\Practice\\Freelance\\Webscraping\\webscraping-project\\Project\\test.ipynb Cell 23\u001b[0m line \u001b[0;36m2\n\u001b[0;32m      <a href='vscode-notebook-cell:/c%3A/Practice/Freelance/Webscraping/webscraping-project/Project/test.ipynb#X41sZmlsZQ%3D%3D?line=0'>1</a>\u001b[0m \u001b[39mfrom\u001b[39;00m \u001b[39mgooglesearch\u001b[39;00m \u001b[39mimport\u001b[39;00m search\n\u001b[1;32m----> <a href='vscode-notebook-cell:/c%3A/Practice/Freelance/Webscraping/webscraping-project/Project/test.ipynb#X41sZmlsZQ%3D%3D?line=1'>2</a>\u001b[0m \u001b[39mfor\u001b[39;00m website \u001b[39min\u001b[39;00m search(\u001b[39m\"\u001b[39m\u001b[39mNike official website\u001b[39m\u001b[39m\"\u001b[39m, lang\u001b[39m=\u001b[39m\u001b[39m'\u001b[39m\u001b[39men\u001b[39m\u001b[39m'\u001b[39m, num_results\u001b[39m=\u001b[39m\u001b[39m1\u001b[39m, sleep_interval\u001b[39m=\u001b[39m\u001b[39m5\u001b[39m):\n\u001b[0;32m      <a href='vscode-notebook-cell:/c%3A/Practice/Freelance/Webscraping/webscraping-project/Project/test.ipynb#X41sZmlsZQ%3D%3D?line=2'>3</a>\u001b[0m     \u001b[39mprint\u001b[39m(website)\n",
      "File \u001b[1;32mc:\\Practice\\Freelance\\Webscraping\\webscraping-project\\env\\lib\\site-packages\\googlesearch\\__init__.py:54\u001b[0m, in \u001b[0;36msearch\u001b[1;34m(term, num_results, lang, proxy, advanced, sleep_interval, timeout)\u001b[0m\n\u001b[0;32m     51\u001b[0m start \u001b[39m=\u001b[39m \u001b[39m0\u001b[39m\n\u001b[0;32m     52\u001b[0m \u001b[39mwhile\u001b[39;00m start \u001b[39m<\u001b[39m num_results:\n\u001b[0;32m     53\u001b[0m     \u001b[39m# Send request\u001b[39;00m\n\u001b[1;32m---> 54\u001b[0m     resp \u001b[39m=\u001b[39m _req(escaped_term, num_results \u001b[39m-\u001b[39;49m start,\n\u001b[0;32m     55\u001b[0m                 lang, start, proxies, timeout)\n\u001b[0;32m     57\u001b[0m     \u001b[39m# Parse\u001b[39;00m\n\u001b[0;32m     58\u001b[0m     soup \u001b[39m=\u001b[39m BeautifulSoup(resp\u001b[39m.\u001b[39mtext, \u001b[39m\"\u001b[39m\u001b[39mhtml.parser\u001b[39m\u001b[39m\"\u001b[39m)\n",
      "File \u001b[1;32mc:\\Practice\\Freelance\\Webscraping\\webscraping-project\\env\\lib\\site-packages\\googlesearch\\__init__.py:23\u001b[0m, in \u001b[0;36m_req\u001b[1;34m(term, results, lang, start, proxies, timeout)\u001b[0m\n\u001b[0;32m      8\u001b[0m \u001b[39mdef\u001b[39;00m \u001b[39m_req\u001b[39m(term, results, lang, start, proxies, timeout):\n\u001b[0;32m      9\u001b[0m     resp \u001b[39m=\u001b[39m get(\n\u001b[0;32m     10\u001b[0m         url\u001b[39m=\u001b[39m\u001b[39m\"\u001b[39m\u001b[39mhttps://www.google.com/search\u001b[39m\u001b[39m\"\u001b[39m,\n\u001b[0;32m     11\u001b[0m         headers\u001b[39m=\u001b[39m{\n\u001b[1;32m   (...)\u001b[0m\n\u001b[0;32m     21\u001b[0m         timeout\u001b[39m=\u001b[39mtimeout,\n\u001b[0;32m     22\u001b[0m     )\n\u001b[1;32m---> 23\u001b[0m     resp\u001b[39m.\u001b[39;49mraise_for_status()\n\u001b[0;32m     24\u001b[0m     \u001b[39mreturn\u001b[39;00m resp\n",
      "File \u001b[1;32mc:\\Practice\\Freelance\\Webscraping\\webscraping-project\\env\\lib\\site-packages\\requests\\models.py:1021\u001b[0m, in \u001b[0;36mResponse.raise_for_status\u001b[1;34m(self)\u001b[0m\n\u001b[0;32m   1016\u001b[0m     http_error_msg \u001b[39m=\u001b[39m (\n\u001b[0;32m   1017\u001b[0m         \u001b[39mf\u001b[39m\u001b[39m\"\u001b[39m\u001b[39m{\u001b[39;00m\u001b[39mself\u001b[39m\u001b[39m.\u001b[39mstatus_code\u001b[39m}\u001b[39;00m\u001b[39m Server Error: \u001b[39m\u001b[39m{\u001b[39;00mreason\u001b[39m}\u001b[39;00m\u001b[39m for url: \u001b[39m\u001b[39m{\u001b[39;00m\u001b[39mself\u001b[39m\u001b[39m.\u001b[39murl\u001b[39m}\u001b[39;00m\u001b[39m\"\u001b[39m\n\u001b[0;32m   1018\u001b[0m     )\n\u001b[0;32m   1020\u001b[0m \u001b[39mif\u001b[39;00m http_error_msg:\n\u001b[1;32m-> 1021\u001b[0m     \u001b[39mraise\u001b[39;00m HTTPError(http_error_msg, response\u001b[39m=\u001b[39m\u001b[39mself\u001b[39m)\n",
      "\u001b[1;31mHTTPError\u001b[0m: 429 Client Error: Too Many Requests for url: https://www.google.com/sorry/index?continue=https://www.google.com/search%3Fq%3DNike%252Bofficial%252Bwebsite%26num%3D3%26hl%3Den%26start%3D0&hl=en&q=EgRZup-aGOq3oagGIjCm3WvFIl6D5_uuPXrM0QGeW2_ZeNpTfWCz3IHE3aQzfFl9vSm0VeF1sRsD6cZtd9syAXJaAUM"
     ]
    }
   ],
   "source": [
    "from googlesearch import search\n",
    "for website in search(\"Nike official website\", lang='en', num_results=1, sleep_interval=5):\n",
    "    print(website)"
   ]
  },
  {
   "cell_type": "code",
   "execution_count": 68,
   "metadata": {},
   "outputs": [],
   "source": [
    "#Function for searching for the websites of the missing brands via google.\n",
    "from googlesearch import search\n",
    "def search_missing_websites(brand_name : str) -> None:\n",
    "    query = f\"{brand_name} official website\"\n",
    "    for website in search(query, num_results=1, sleep_interval=5):\n",
    "        return website\n",
    "    return None"
   ]
  },
  {
   "cell_type": "code",
   "execution_count": null,
   "metadata": {},
   "outputs": [],
   "source": [
    "# Iterate over missing website brands and update the dataframe\n",
    "for brand_name in missing_brands:\n",
    "    website = search_missing_websites(brand_name):\n",
    "    if website: \n",
    "        df.loc[df['Brand Name']== brand_name, 'Website'] = website\n",
    "\n",
    "#Display the updated dataframe\n",
    "\n",
    "print(df)"
   ]
  }
 ],
 "metadata": {
  "kernelspec": {
   "display_name": "Python 3",
   "language": "python",
   "name": "python3"
  },
  "language_info": {
   "codemirror_mode": {
    "name": "ipython",
    "version": 3
   },
   "file_extension": ".py",
   "mimetype": "text/x-python",
   "name": "python",
   "nbconvert_exporter": "python",
   "pygments_lexer": "ipython3",
   "version": "3.8.0"
  },
  "orig_nbformat": 4
 },
 "nbformat": 4,
 "nbformat_minor": 2
}
